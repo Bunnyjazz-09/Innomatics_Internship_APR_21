{
 "cells": [
  {
   "cell_type": "code",
   "execution_count": 4,
   "metadata": {},
   "outputs": [],
   "source": [
    "import random\n",
    "import numpy as np\n",
    "import scipy.stats\n",
    "import matplotlib.pyplot as plt"
   ]
  },
  {
   "cell_type": "code",
   "execution_count": 55,
   "metadata": {},
   "outputs": [],
   "source": [
    "def sample_std(x, m, size):\n",
    "    s=0\n",
    "    arr=x\n",
    "    mean=m\n",
    "    n=size\n",
    "    for i in arr:\n",
    "        s=s+pow((i-mean),2)\n",
    "    s_dev=np.sqrt(s/n-1)\n",
    "    return s_dev\n",
    "        "
   ]
  },
  {
   "cell_type": "markdown",
   "metadata": {},
   "source": [
    "<h3>Q-1: Pista House selling Hyderabadi Chicken Dum biryani claims that each parcel packet has 500 grams of biryani (also mentioned on the label of packet). You are sceptic of their claims and believe that on average each packet does not contain 500 grams of biryani. How do you prove your claim?</h3>"
   ]
  },
  {
   "cell_type": "markdown",
   "metadata": {},
   "source": [
    "<p> Step 1-</p>\n",
    "<p>Null Hypothesis</p>\n",
    "$$H_0: \\mu=500$$\n",
    "<p>Alternate Hypothesis</p>\n",
    "$$H_1: \\mu \\neq 500$$"
   ]
  },
  {
   "cell_type": "markdown",
   "metadata": {},
   "source": [
    "<p>Step 2-</p>\n",
    "<l>\n",
    "<ol>Collect a sample size of n</ol>\n",
    "<ol>Calculate the mean</ol>\n",
    "</l>"
   ]
  },
  {
   "cell_type": "markdown",
   "metadata": {},
   "source": [
    "<p>Step 3-</p>\n",
    "<p>Since population variance is unknown so we will go for t-test:</p>\n",
    "$$t=\\frac{\\bar{x}-\\mu}{\\frac{s}{\\sqrt[2]{n}}}$$"
   ]
  },
  {
   "cell_type": "markdown",
   "metadata": {},
   "source": [
    "<p>Step 4-</p>\n",
    "<p>Decide significance level</p>"
   ]
  },
  {
   "cell_type": "markdown",
   "metadata": {},
   "source": [
    "<p>Step 5-</p>\n",
    "<p>Apply Two tailed t-test:-</p>\n",
    "$$\\mid t\\mid > t_{n-1,\\frac{\\alpha}{2}} \\Rightarrow \\mbox{Reject } H_0 \\mbox{ or Accept }H_1$$"
   ]
  },
  {
   "cell_type": "code",
   "execution_count": 27,
   "metadata": {},
   "outputs": [
    {
     "name": "stdout",
     "output_type": "stream",
     "text": [
      "465.3\n"
     ]
    }
   ],
   "source": [
    "sample=[490, 220, 470, 500, 495, 496, 496, 498, 508, 480]\n",
    "s_mean=sum(sample)/len(sample)\n",
    "print(s_mean)"
   ]
  },
  {
   "cell_type": "code",
   "execution_count": 28,
   "metadata": {},
   "outputs": [
    {
     "name": "stdout",
     "output_type": "stream",
     "text": [
      "82.38573905719362\n"
     ]
    }
   ],
   "source": [
    "s_size=10\n",
    "p_mean=500\n",
    "s_mean=s_mean\n",
    "s_std=sample_std(sample,s_mean,s_size)\n",
    "print(s_std)"
   ]
  },
  {
   "cell_type": "code",
   "execution_count": 35,
   "metadata": {},
   "outputs": [
    {
     "name": "stdout",
     "output_type": "stream",
     "text": [
      "2.2621571627409915\n"
     ]
    }
   ],
   "source": [
    "c_level=0.95\n",
    "alpha = 1 - c_level\n",
    "t_critical=scipy.stats.t.ppf(q=1-alpha/2,df=s_size-1)\n",
    "print(t_critical)"
   ]
  },
  {
   "cell_type": "code",
   "execution_count": 31,
   "metadata": {},
   "outputs": [
    {
     "name": "stdout",
     "output_type": "stream",
     "text": [
      "-1.3319178302408081\n"
     ]
    }
   ],
   "source": [
    "t_score=(s_mean-p_mean)/(s_std/np.sqrt(s_size))\n",
    "print(t_score)"
   ]
  },
  {
   "cell_type": "code",
   "execution_count": 45,
   "metadata": {},
   "outputs": [
    {
     "data": {
      "text/plain": [
       "Text(465.3, 0.0007, 'x_bar')"
      ]
     },
     "execution_count": 45,
     "metadata": {},
     "output_type": "execute_result"
    },
    {
     "data": {
      "image/png": "[encoded data removed]",
      "text/plain": [
       "<Figure size 432x288 with 1 Axes>"
      ]
     },
     "metadata": {
      "needs_background": "light"
     },
     "output_type": "display_data"
    }
   ],
   "source": [
    "x_min = 100\n",
    "x_max=1000\n",
    "\n",
    "mean=p_mean\n",
    "std=s_std\n",
    "\n",
    "x = np.linspace(x_min, x_max, 100)\n",
    "y = scipy.stats.norm.pdf(x, mean, std)\n",
    "plt.xlim(x_min, x_max)\n",
    "plt.plot(x, y)\n",
    "\n",
    "t_critical_left = p_mean + (-t_critical * std)\n",
    "t_critical_right = p_mean + (t_critical * std)\n",
    "\n",
    "x1 = np.linspace(x_min, t_critical_left, 100)\n",
    "y1 = scipy.stats.norm.pdf(x1, mean, std)\n",
    "plt.fill_between(x1, y1, color='blue')\n",
    "\n",
    "x2 = np.linspace(t_critical_right, x_max, 100)\n",
    "y2 = scipy.stats.norm.pdf(x2, mean, std)\n",
    "plt.fill_between(x2, y2, color='blue')\n",
    "\n",
    "plt.scatter(s_mean, 0)\n",
    "plt.annotate(\"x_bar\", (s_mean, 0.0007))"
   ]
  },
  {
   "cell_type": "code",
   "execution_count": 32,
   "metadata": {},
   "outputs": [
    {
     "name": "stdout",
     "output_type": "stream",
     "text": [
      "Fail to Reject Null Hypothesis\n"
     ]
    }
   ],
   "source": [
    "if np.abs(t_score)>t_critical:\n",
    "    print(\"Reject Null Hypothesis\")\n",
    "else:\n",
    "    print(\"Fail to Reject Null Hypothesis\")"
   ]
  },
  {
   "cell_type": "code",
   "execution_count": 38,
   "metadata": {},
   "outputs": [
    {
     "name": "stdout",
     "output_type": "stream",
     "text": [
      "p_value =  0.21563069479346209\n",
      "Fail to reject Null Hypothesis\n"
     ]
    }
   ],
   "source": [
    "p_value = 2 * (scipy.stats.t.sf(abs(t_score), df=s_size-1))\n",
    "\n",
    "print(\"p_value = \", p_value)\n",
    "\n",
    "if(p_value < alpha):\n",
    "    print(\"Reject Null Hypothesis\")\n",
    "else:\n",
    "    print(\"Fail to reject Null Hypothesis\")"
   ]
  },
  {
   "cell_type": "markdown",
   "metadata": {},
   "source": [
    "<h3>Q-2: You have developed a new Natural Language Processing Algorithms and done a user study. You claim that the average rating given by the users is greater than 4 on a scale of 1 to 5. How do you prove this to your client?</h3>"
   ]
  },
  {
   "cell_type": "markdown",
   "metadata": {},
   "source": [
    "<p> Step 1-</p>\n",
    "<p>Null Hypothesis</p>\n",
    "$$H_0: \\mu<4$$\n",
    "<p>Alternate Hypothesis</p>\n",
    "$$H_1: \\mu > 4$$"
   ]
  },
  {
   "cell_type": "markdown",
   "metadata": {},
   "source": [
    "<p>Step 2-</p>\n",
    "<l>\n",
    "<ol>Collect a sample size of n =20</ol>\n",
    "    $$[4, 3, 5, 4, 5, 3, 5, 5, 4, 2, 4, 5, 5, 4, 4, 5, 4, 5, 4, 5]$$\n",
    "<ol>Calculate the mean $$\\bar{x}$$</ol>\n",
    "</l>"
   ]
  },
  {
   "cell_type": "markdown",
   "metadata": {},
   "source": [
    "<p>Step 3-</p>\n",
    "<p>Since population variance is unknown so we will go for t-test:</p>\n",
    "$$t=\\frac{\\bar{x}-\\mu}{\\frac{s}{\\sqrt[2]{n}}}$$"
   ]
  },
  {
   "cell_type": "markdown",
   "metadata": {},
   "source": [
    "<p>Step 4-</p>\n",
    "<p>Decide significance level</p>"
   ]
  },
  {
   "cell_type": "markdown",
   "metadata": {},
   "source": [
    "<p>Step 5-</p>\n",
    "<p>Apply Right tailed t-test:-</p>\n",
    "$$ t > t_{n-1,\\alpha} \\Rightarrow \\mbox{Reject } H_0 \\mbox{ or Accept }H_1$$"
   ]
  },
  {
   "cell_type": "code",
   "execution_count": 100,
   "metadata": {},
   "outputs": [
    {
     "name": "stdout",
     "output_type": "stream",
     "text": [
      "4.25\n"
     ]
    }
   ],
   "source": [
    "sample=[4, 3, 5, 4, 5, 3, 5, 5, 4, 2, 4, 5, 5, 4, 4, 5, 4, 5, 4, 5]\n",
    "s_mean=sum(sample)/len(sample)\n",
    "print(s_mean)"
   ]
  },
  {
   "cell_type": "code",
   "execution_count": 101,
   "metadata": {},
   "outputs": [
    {
     "name": "stdout",
     "output_type": "stream",
     "text": [
      "0.82915619758885\n"
     ]
    }
   ],
   "source": [
    "s_size=20\n",
    "p_mean=4\n",
    "s_mean=4.25\n",
    "s_std=np.std(sample)\n",
    "print(s_std)"
   ]
  },
  {
   "cell_type": "code",
   "execution_count": 102,
   "metadata": {},
   "outputs": [
    {
     "name": "stdout",
     "output_type": "stream",
     "text": [
      "1.729132811521367\n"
     ]
    }
   ],
   "source": [
    "c_level=0.95\n",
    "alpha = 1 - c_level\n",
    "t_critical=scipy.stats.t.ppf(q=1-alpha,df=s_size-1)\n",
    "print(t_critical)"
   ]
  },
  {
   "cell_type": "code",
   "execution_count": 103,
   "metadata": {},
   "outputs": [
    {
     "name": "stdout",
     "output_type": "stream",
     "text": [
      "1.3483997249264843\n"
     ]
    }
   ],
   "source": [
    "t_score=(s_mean-p_mean)/(s_std/np.sqrt(s_size))\n",
    "print(t_score)"
   ]
  },
  {
   "cell_type": "code",
   "execution_count": 107,
   "metadata": {},
   "outputs": [
    {
     "data": {
      "text/plain": [
       "Text(4.25, 0.1, 'x_bar')"
      ]
     },
     "execution_count": 107,
     "metadata": {},
     "output_type": "execute_result"
    },
    {
     "data": {
      "image/png": "[encoded data removed]",
      "text/plain": [
       "<Figure size 432x288 with 1 Axes>"
      ]
     },
     "metadata": {
      "needs_background": "light"
     },
     "output_type": "display_data"
    }
   ],
   "source": [
    "x_min = 1\n",
    "x_max=10\n",
    "\n",
    "mean=p_mean\n",
    "std=s_std\n",
    "\n",
    "x = np.linspace(x_min, x_max, 100)\n",
    "y = scipy.stats.norm.pdf(x, mean, std)\n",
    "plt.xlim(x_min, x_max)\n",
    "plt.plot(x, y)\n",
    "\n",
    "t_critical_right = p_mean + (t_critical * std)\n",
    "\n",
    "x1 = np.linspace(t_critical_right, x_max, 100)\n",
    "y1 = scipy.stats.norm.pdf(x1, mean, std)\n",
    "plt.fill_between(x1, y1, color='blue')\n",
    "\n",
    "\n",
    "plt.scatter(s_mean, 0)\n",
    "plt.annotate(\"x_bar\", (s_mean, 0.1))"
   ]
  },
  {
   "cell_type": "code",
   "execution_count": 72,
   "metadata": {},
   "outputs": [
    {
     "name": "stdout",
     "output_type": "stream",
     "text": [
      "Fail to reject Null Hypothesis\n"
     ]
    }
   ],
   "source": [
    "if(t_score > t_critical):\n",
    "    print(\"Reject Null Hypothesis\")\n",
    "else:\n",
    "    print(\"Fail to reject Null Hypothesis\")"
   ]
  },
  {
   "cell_type": "code",
   "execution_count": 75,
   "metadata": {},
   "outputs": [
    {
     "name": "stdout",
     "output_type": "stream",
     "text": [
      "p_value =  0.09669263853561202\n",
      "Fail to reject Null Hypothesis\n"
     ]
    }
   ],
   "source": [
    "p_value = scipy.stats.t.sf(abs(t_score), df=s_size-1)\n",
    "\n",
    "print(\"p_value = \", p_value)\n",
    "\n",
    "if(p_value < alpha):\n",
    "    print(\"Reject Null Hypothesis\")\n",
    "else:\n",
    "    print(\"Fail to reject Null Hypothesis\")"
   ]
  },
  {
   "cell_type": "markdown",
   "metadata": {},
   "source": [
    "<h3>Q-3: TATA has developed a better fuel management system for the SUV segment. They claim that with this system, on average the SUV's mileage is at least 15 km/litre? </h3>"
   ]
  },
  {
   "cell_type": "markdown",
   "metadata": {},
   "source": [
    "<p> Step 1-</p>\n",
    "<p>Null Hypothesis</p>\n",
    "$$H_0: \\mu<15$$\n",
    "<p>Alternate Hypothesis</p>\n",
    "$$H_1: \\mu >= 15$$"
   ]
  },
  {
   "cell_type": "markdown",
   "metadata": {},
   "source": [
    "<p>Step 2-</p>\n",
    "<l>\n",
    "<ol>Collect a sample size of n=20</ol>\n",
    "    $$[14.08, 14.13, 15.65, 13.78, 16.26, 14.97, 15.36, 15.81, 14.53, 16.79, 15.78, 16.98, 13.23, 15.43, 15.46, 13.88, 14.31, 14.41, 15.76, 15.38]$$\n",
    "<ol>Calculate the mean $$\\bar{x}$$</ol>\n",
    "</l>"
   ]
  },
  {
   "cell_type": "markdown",
   "metadata": {},
   "source": [
    "<p>Step 3-</p>\n",
    "<p>Since population variance is unknown so we will go for t-test:</p>\n",
    "$$t=\\frac{\\bar{x}-\\mu}{\\frac{s}{\\sqrt[2]{n}}}$$"
   ]
  },
  {
   "cell_type": "markdown",
   "metadata": {},
   "source": [
    "<p>Step 4-</p>\n",
    "<p>Decide significance level</p>"
   ]
  },
  {
   "cell_type": "markdown",
   "metadata": {},
   "source": [
    "<p>Step 5-</p>\n",
    "<p>Apply Right tailed t-test:-</p>\n",
    "$$ t > t_{n-1,\\alpha} \\Rightarrow \\mbox{Reject } H_0 \\mbox{ or Accept }H_1$$"
   ]
  },
  {
   "cell_type": "code",
   "execution_count": 123,
   "metadata": {},
   "outputs": [
    {
     "name": "stdout",
     "output_type": "stream",
     "text": [
      "15.098999999999998\n"
     ]
    }
   ],
   "source": [
    "sample=[14.08, 14.13, 15.65, 13.78, 16.26, 14.97, 15.36, 15.81, 14.53, 16.79, 15.78, 16.98, 13.23, 15.43, 15.46, 13.88, 14.31, 14.41, 15.76, 15.38]\n",
    "s_mean=sum(sample)/len(sample)\n",
    "print(s_mean)"
   ]
  },
  {
   "cell_type": "code",
   "execution_count": 124,
   "metadata": {},
   "outputs": [
    {
     "name": "stdout",
     "output_type": "stream",
     "text": [
      "0.9994043225842081\n"
     ]
    }
   ],
   "source": [
    "s_size=20\n",
    "p_mean=15\n",
    "s_mean=s_mean\n",
    "s_std=np.std(sample)\n",
    "print(s_std)"
   ]
  },
  {
   "cell_type": "code",
   "execution_count": 125,
   "metadata": {},
   "outputs": [
    {
     "name": "stdout",
     "output_type": "stream",
     "text": [
      "1.729132811521367\n"
     ]
    }
   ],
   "source": [
    "c_level=0.95\n",
    "alpha = 1 - c_level\n",
    "t_critical=scipy.stats.t.ppf(q=1-alpha,df=s_size-1)\n",
    "print(t_critical)"
   ]
  },
  {
   "cell_type": "code",
   "execution_count": 126,
   "metadata": {},
   "outputs": [
    {
     "name": "stdout",
     "output_type": "stream",
     "text": [
      "0.44300534782572615\n"
     ]
    }
   ],
   "source": [
    "t_score=(s_mean-p_mean)/(s_std/np.sqrt(s_size))\n",
    "print(t_score)"
   ]
  },
  {
   "cell_type": "code",
   "execution_count": 127,
   "metadata": {},
   "outputs": [
    {
     "data": {
      "text/plain": [
       "Text(15.098999999999998, 0.1, 'x_bar')"
      ]
     },
     "execution_count": 127,
     "metadata": {},
     "output_type": "execute_result"
    },
    {
     "data": {
      "image/png": "[encoded data removed]",
      "text/plain": [
       "<Figure size 432x288 with 1 Axes>"
      ]
     },
     "metadata": {
      "needs_background": "light"
     },
     "output_type": "display_data"
    }
   ],
   "source": [
    "x_min = 10\n",
    "x_max=20\n",
    "\n",
    "mean=p_mean\n",
    "std=s_std\n",
    "\n",
    "x = np.linspace(x_min, x_max, 100)\n",
    "y = scipy.stats.norm.pdf(x, mean, std)\n",
    "plt.xlim(x_min, x_max)\n",
    "plt.plot(x, y)\n",
    "\n",
    "t_critical_right = p_mean + (t_critical * std)\n",
    "\n",
    "x1 = np.linspace(t_critical_right, x_max, 100)\n",
    "y1 = scipy.stats.norm.pdf(x1, mean, std)\n",
    "plt.fill_between(x1, y1, color='blue')\n",
    "\n",
    "\n",
    "plt.scatter(s_mean, 0)\n",
    "plt.annotate(\"x_bar\", (s_mean, 0.1))"
   ]
  },
  {
   "cell_type": "code",
   "execution_count": 128,
   "metadata": {},
   "outputs": [
    {
     "name": "stdout",
     "output_type": "stream",
     "text": [
      "Fail to reject Null Hypothesis\n"
     ]
    }
   ],
   "source": [
    "if(t_score > t_critical):\n",
    "    print(\"Reject Null Hypothesis\")\n",
    "else:\n",
    "    print(\"Fail to reject Null Hypothesis\")"
   ]
  },
  {
   "cell_type": "code",
   "execution_count": 129,
   "metadata": {},
   "outputs": [
    {
     "name": "stdout",
     "output_type": "stream",
     "text": [
      "p_value =  0.3313822880666357\n",
      "Fail to reject Null Hypothesis\n"
     ]
    }
   ],
   "source": [
    "p_value = scipy.stats.t.sf(abs(t_score), df=s_size-1)\n",
    "\n",
    "print(\"p_value = \", p_value)\n",
    "\n",
    "if(p_value < alpha):\n",
    "    print(\"Reject Null Hypothesis\")\n",
    "else:\n",
    "    print(\"Fail to reject Null Hypothesis\")"
   ]
  },
  {
   "cell_type": "markdown",
   "metadata": {},
   "source": [
    "<h3>Q-4: You have developed a new Machine Learning Application and claim that on average it takes less than 100 ms to predict for any future datapoint. How do you convince your client about this claim?</h3>"
   ]
  },
  {
   "cell_type": "markdown",
   "metadata": {},
   "source": [
    "<p> Step 1-</p>\n",
    "<p>Null Hypothesis</p>\n",
    "$$H_0: \\mu>=100$$\n",
    "<p>Alternate Hypothesis</p>\n",
    "$$H_1: \\mu < 100$$"
   ]
  },
  {
   "cell_type": "markdown",
   "metadata": {},
   "source": [
    "<p>Step 2-</p>\n",
    "<l>\n",
    "<ol>Collect a sample size of n=20</ol>\n",
    "<ol>Calculate the mean $$\\bar{x}=97$$</ol>\n",
    "</l>"
   ]
  },
  {
   "cell_type": "markdown",
   "metadata": {},
   "source": [
    "<p>Step 3-</p>\n",
    "<p>Since population variance is unknown so we will go for t-test:</p>\n",
    "$$t=\\frac{\\bar{x}-\\mu}{\\frac{s}{\\sqrt[2]{n}}}$$"
   ]
  },
  {
   "cell_type": "markdown",
   "metadata": {},
   "source": [
    "<p>Step 4-</p>\n",
    "<p>Decide significance level</p>"
   ]
  },
  {
   "cell_type": "markdown",
   "metadata": {},
   "source": [
    "<p>Step 5-</p>\n",
    "<p>Apply Right tailed t-test:-</p>\n",
    "$$ t < t_{n-1,\\alpha} \\Rightarrow \\mbox{Reject } H_0 \\mbox{ or Accept }H_1$$"
   ]
  },
  {
   "cell_type": "code",
   "execution_count": 1,
   "metadata": {},
   "outputs": [
    {
     "name": "stdout",
     "output_type": "stream",
     "text": [
      "97.5\n"
     ]
    }
   ],
   "source": [
    "s_mean=97.5\n",
    "print(s_mean)"
   ]
  },
  {
   "cell_type": "code",
   "execution_count": 5,
   "metadata": {},
   "outputs": [
    {
     "name": "stdout",
     "output_type": "stream",
     "text": [
      "8\n"
     ]
    }
   ],
   "source": [
    "s_size=100\n",
    "p_mean=100\n",
    "s_mean=97.5\n",
    "s_std=8\n",
    "print(s_std)"
   ]
  },
  {
   "cell_type": "code",
   "execution_count": 6,
   "metadata": {},
   "outputs": [
    {
     "name": "stdout",
     "output_type": "stream",
     "text": [
      "2.3646058614359737\n"
     ]
    }
   ],
   "source": [
    "c_level=0.99\n",
    "alpha = 1 - c_level\n",
    "t_critical=scipy.stats.t.ppf(q=1-alpha,df=s_size-1)\n",
    "print(t_critical)"
   ]
  },
  {
   "cell_type": "code",
   "execution_count": 7,
   "metadata": {},
   "outputs": [
    {
     "name": "stdout",
     "output_type": "stream",
     "text": [
      "-3.125\n"
     ]
    }
   ],
   "source": [
    "t_score=(s_mean-p_mean)/(s_std/np.sqrt(s_size))\n",
    "print(t_score)"
   ]
  },
  {
   "cell_type": "code",
   "execution_count": 8,
   "metadata": {},
   "outputs": [
    {
     "data": {
      "text/plain": [
       "Text(97.5, 0.1, 'x_bar')"
      ]
     },
     "execution_count": 8,
     "metadata": {},
     "output_type": "execute_result"
    },
    {
     "data": {
      "image/png": "[encoded data removed]",
      "text/plain": [
       "<Figure size 432x288 with 1 Axes>"
      ]
     },
     "metadata": {
      "needs_background": "light"
     },
     "output_type": "display_data"
    }
   ],
   "source": [
    "x_min = 70\n",
    "x_max=130\n",
    "\n",
    "mean=p_mean\n",
    "std=s_std\n",
    "\n",
    "x = np.linspace(x_min, x_max, 100)\n",
    "y = scipy.stats.norm.pdf(x, mean, std)\n",
    "plt.xlim(x_min, x_max)\n",
    "plt.plot(x, y)\n",
    "\n",
    "t_critical_left = p_mean + (-t_critical * std)\n",
    "\n",
    "x1 = np.linspace(x_min,t_critical_left, 100)\n",
    "y1 = scipy.stats.norm.pdf(x1, mean, std)\n",
    "plt.fill_between(x1, y1, color='blue')\n",
    "\n",
    "\n",
    "plt.scatter(s_mean, 0)\n",
    "plt.annotate(\"x_bar\", (s_mean, 0.1))"
   ]
  },
  {
   "cell_type": "code",
   "execution_count": 9,
   "metadata": {},
   "outputs": [
    {
     "name": "stdout",
     "output_type": "stream",
     "text": [
      "Reject Null Hypothesis\n"
     ]
    }
   ],
   "source": [
    "if(t_score < -t_critical):\n",
    "    print(\"Reject Null Hypothesis\")\n",
    "else:\n",
    "    print(\"Fail to reject Null Hypothesis\")"
   ]
  },
  {
   "cell_type": "code",
   "execution_count": 10,
   "metadata": {},
   "outputs": [
    {
     "name": "stdout",
     "output_type": "stream",
     "text": [
      "p_value =  0.0011666464441345188\n",
      "Reject Null Hypothesis\n"
     ]
    }
   ],
   "source": [
    "p_value = scipy.stats.t.sf(abs(t_score), df=s_size-1)\n",
    "\n",
    "print(\"p_value = \", p_value)\n",
    "\n",
    "if(p_value < alpha):\n",
    "    print(\"Reject Null Hypothesis\")\n",
    "else:\n",
    "    print(\"Fail to reject Null Hypothesis\")"
   ]
  },
  {
   "cell_type": "code",
   "execution_count": null,
   "metadata": {},
   "outputs": [],
   "source": []
  }
 ],
 "metadata": {
  "kernelspec": {
   "display_name": "Python 3",
   "language": "python",
   "name": "python3"
  },
  "language_info": {
   "codemirror_mode": {
    "name": "ipython",
    "version": 3
   },
   "file_extension": ".py",
   "mimetype": "text/x-python",
   "name": "python",
   "nbconvert_exporter": "python",
   "pygments_lexer": "ipython3",
   "version": "3.8.5"
  }
 },
 "nbformat": 4,
 "nbformat_minor": 4
}
