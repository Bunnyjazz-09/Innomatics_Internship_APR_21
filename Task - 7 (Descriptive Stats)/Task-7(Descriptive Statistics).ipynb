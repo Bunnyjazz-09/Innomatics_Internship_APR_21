{
 "cells": [
  {
   "cell_type": "markdown",
   "metadata": {},
   "source": [
    "# Descriptive Statistics"
   ]
  },
  {
   "cell_type": "markdown",
   "metadata": {},
   "source": [
    "# Mean\n",
    "The mean is the average or the most common value in a collection of numbers.\n",
    "In statistics, it is a measure of central tendency of a probability distribution along median and mode. It is also referred to as an expected value."
   ]
  },
  {
   "cell_type": "markdown",
   "metadata": {},
   "source": [
    "$$\\mu=\\frac{\\Sigma x_i}{n}$$"
   ]
  },
  {
   "cell_type": "code",
   "execution_count": 16,
   "metadata": {},
   "outputs": [],
   "source": [
    "def user_mean(x):\n",
    "    arr=x\n",
    "    n=len(arr)\n",
    "    return sum(arr)/n"
   ]
  },
  {
   "cell_type": "code",
   "execution_count": 18,
   "metadata": {},
   "outputs": [
    {
     "name": "stdout",
     "output_type": "stream",
     "text": [
      "41558.0\n"
     ]
    }
   ],
   "source": [
    "print(user_mean(df['Mthly_HH_Income']))"
   ]
  },
  {
   "cell_type": "code",
   "execution_count": 6,
   "metadata": {},
   "outputs": [
    {
     "name": "stdout",
     "output_type": "stream",
     "text": [
      "Mthly_HH_Income           41558.00\n",
      "Mthly_HH_Expense          18818.00\n",
      "No_of_Fly_Members             4.06\n",
      "Emi_or_Rent_Amt            3060.00\n",
      "Annual_HH_Income         490019.04\n",
      "No_of_Earning_Members         1.46\n",
      "dtype: float64\n"
     ]
    }
   ],
   "source": [
    "import pandas as pd\n",
    "df=pd.read_csv(r\"data.csv\")\n",
    "print(df.mean())"
   ]
  },
  {
   "cell_type": "markdown",
   "metadata": {},
   "source": [
    "# Median\n",
    "The median is the middle number in a sorted, ascending or descending, list of numbers and can be more descriptive of that data set than the average."
   ]
  },
  {
   "cell_type": "markdown",
   "metadata": {},
   "source": [
    "$$\n",
    "Med(X) = \\left\\{\n",
    "    \\begin{array}\\\\\n",
    "        X[\\frac{n}{2}] & \\mbox{if x is odd} \\\\\n",
    "        \\frac{X[\\frac{n}{2}-1]+X[\\frac{n}{2}]}{2} & \\mbox{if is even} \\\\\n",
    "    \\end{array}\n",
    "\\right.\n",
    "$$"
   ]
  },
  {
   "cell_type": "code",
   "execution_count": 23,
   "metadata": {},
   "outputs": [],
   "source": [
    "def user_median(x):\n",
    "    arr=x\n",
    "    n=len(arr)\n",
    "    \n",
    "    if n%2==0:\n",
    "        median1=arr[n//2]\n",
    "        median2=arr[n//2 -1]\n",
    "        median=(median1 + median2)//2\n",
    "    else:\n",
    "        median=arr[n//2]\n",
    "    return median"
   ]
  },
  {
   "cell_type": "code",
   "execution_count": 24,
   "metadata": {},
   "outputs": [
    {
     "name": "stdout",
     "output_type": "stream",
     "text": [
      "35000\n"
     ]
    }
   ],
   "source": [
    "print(user_median(df['Mthly_HH_Income']))"
   ]
  },
  {
   "cell_type": "code",
   "execution_count": 8,
   "metadata": {},
   "outputs": [
    {
     "name": "stdout",
     "output_type": "stream",
     "text": [
      "Mthly_HH_Income           35000.0\n",
      "Mthly_HH_Expense          15500.0\n",
      "No_of_Fly_Members             4.0\n",
      "Emi_or_Rent_Amt               0.0\n",
      "Annual_HH_Income         447420.0\n",
      "No_of_Earning_Members         1.0\n",
      "dtype: float64\n"
     ]
    }
   ],
   "source": [
    "print(df.median())"
   ]
  },
  {
   "cell_type": "markdown",
   "metadata": {},
   "source": [
    "# Mode\n",
    "A mode is defined as the value that has a higher frequency in a given set of values. It is the value that appears the most number of times. "
   ]
  },
  {
   "cell_type": "code",
   "execution_count": 9,
   "metadata": {},
   "outputs": [
    {
     "name": "stdout",
     "output_type": "stream",
     "text": [
      "   Mthly_HH_Income  Mthly_HH_Expense  No_of_Fly_Members  Emi_or_Rent_Amt  \\\n",
      "0            45000             25000                  4                0   \n",
      "\n",
      "   Annual_HH_Income Highest_Qualified_Member  No_of_Earning_Members  \n",
      "0            590400                 Graduate                      1  \n"
     ]
    }
   ],
   "source": [
    "print(df.mode())"
   ]
  },
  {
   "cell_type": "markdown",
   "metadata": {},
   "source": [
    "# Variance\n",
    "The variance is a measure of variability. It is calculated by taking the average of squared deviations from the mean."
   ]
  },
  {
   "cell_type": "markdown",
   "metadata": {},
   "source": [
    "$$\\sigma^2=\\frac{\\Sigma(X-\\mu)^2}{N}$$"
   ]
  },
  {
   "cell_type": "code",
   "execution_count": 10,
   "metadata": {},
   "outputs": [
    {
     "name": "stdout",
     "output_type": "stream",
     "text": [
      "Mthly_HH_Income          6.811009e+08\n",
      "Mthly_HH_Expense         1.461733e+08\n",
      "No_of_Fly_Members        2.302449e+00\n",
      "Emi_or_Rent_Amt          3.895551e+07\n",
      "Annual_HH_Income         1.024869e+11\n",
      "No_of_Earning_Members    5.391837e-01\n",
      "dtype: float64\n"
     ]
    }
   ],
   "source": [
    "print(df.var())"
   ]
  },
  {
   "cell_type": "markdown",
   "metadata": {},
   "source": [
    "# Standard Deviation\n",
    "The Standard Deviation is a measure of how spread out numbers are."
   ]
  },
  {
   "cell_type": "markdown",
   "metadata": {},
   "source": [
    "$$\\sigma=\\sqrt\\frac{\\Sigma(X-\\mu)^2}{N}$$"
   ]
  },
  {
   "cell_type": "code",
   "execution_count": 11,
   "metadata": {},
   "outputs": [
    {
     "name": "stdout",
     "output_type": "stream",
     "text": [
      "Mthly_HH_Income           26097.908979\n",
      "Mthly_HH_Expense          12090.216824\n",
      "No_of_Fly_Members             1.517382\n",
      "Emi_or_Rent_Amt            6241.434948\n",
      "Annual_HH_Income         320135.792123\n",
      "No_of_Earning_Members         0.734291\n",
      "dtype: float64\n"
     ]
    }
   ],
   "source": [
    "print(df.std())"
   ]
  },
  {
   "cell_type": "markdown",
   "metadata": {},
   "source": [
    "# Correlation\n",
    "Correlation is a statistic that measures the degree to which two variables move in relation to each other."
   ]
  },
  {
   "cell_type": "markdown",
   "metadata": {},
   "source": [
    "$$\n",
    "r_{xy}=\\frac{\\Sigma(x_i-\\mu_x)(y_i-\\mu_y)}{\\sqrt{\\Sigma(x_i-\\mu_x)^2\\Sigma(y_i-\\mu_y)^2}}\n",
    "$$"
   ]
  },
  {
   "cell_type": "code",
   "execution_count": 12,
   "metadata": {},
   "outputs": [
    {
     "name": "stdout",
     "output_type": "stream",
     "text": [
      "                       Mthly_HH_Income  Mthly_HH_Expense  No_of_Fly_Members  \\\n",
      "Mthly_HH_Income               1.000000          0.649215           0.448317   \n",
      "Mthly_HH_Expense              0.649215          1.000000           0.639702   \n",
      "No_of_Fly_Members             0.448317          0.639702           1.000000   \n",
      "Emi_or_Rent_Amt               0.036976          0.405280           0.085808   \n",
      "Annual_HH_Income              0.970315          0.591222           0.430868   \n",
      "No_of_Earning_Members         0.347883          0.311915           0.597482   \n",
      "\n",
      "                       Emi_or_Rent_Amt  Annual_HH_Income  \\\n",
      "Mthly_HH_Income               0.036976          0.970315   \n",
      "Mthly_HH_Expense              0.405280          0.591222   \n",
      "No_of_Fly_Members             0.085808          0.430868   \n",
      "Emi_or_Rent_Amt               1.000000          0.002716   \n",
      "Annual_HH_Income              0.002716          1.000000   \n",
      "No_of_Earning_Members        -0.097431          0.296679   \n",
      "\n",
      "                       No_of_Earning_Members  \n",
      "Mthly_HH_Income                     0.347883  \n",
      "Mthly_HH_Expense                    0.311915  \n",
      "No_of_Fly_Members                   0.597482  \n",
      "Emi_or_Rent_Amt                    -0.097431  \n",
      "Annual_HH_Income                    0.296679  \n",
      "No_of_Earning_Members               1.000000  \n"
     ]
    }
   ],
   "source": [
    "print(df.corr())"
   ]
  },
  {
   "cell_type": "markdown",
   "metadata": {},
   "source": [
    "# Normal  Distribution\n",
    "Normal Distribution is a probability function used in statistics that tells about how the data values are distributed. It is the most important probability distribution function used in statistics because of its advantages in real case scenarios."
   ]
  },
  {
   "cell_type": "markdown",
   "metadata": {},
   "source": [
    "$$\n",
    "f(x,\\mu,\\sigma)=\\frac{1}{\\sigma\\sqrt{2\\pi}} \n",
    "e^\\frac{-(x-\\mu)^2}{2\\pi^2}\n",
    "$$"
   ]
  },
  {
   "cell_type": "markdown",
   "metadata": {},
   "source": [
    "# Skewness\n",
    "In statistics, skewness is a measure of the asymmetry of the probability distribution of a random variable about its mean. In other words, skewness tells you the amount and direction of skew (departure from horizontal symmetry). The skewness value can be positive or negative, or even undefined. If skewness is 0, the data are perfectly symmetrical, although it is quite unlikely for real-world data. As a general rule of thumb:\n",
    "\n",
    "If skewness is less than -1 or greater than 1, the distribution is highly skewed.\n",
    "If skewness is between -1 and -0.5 or between 0.5 and 1, the distribution is moderately skewed.\n",
    "If skewness is between -0.5 and 0.5, the distribution is approximately symmetric."
   ]
  }
 ],
 "metadata": {
  "kernelspec": {
   "display_name": "Python 3",
   "language": "python",
   "name": "python3"
  },
  "language_info": {
   "codemirror_mode": {
    "name": "ipython",
    "version": 3
   },
   "file_extension": ".py",
   "mimetype": "text/x-python",
   "name": "python",
   "nbconvert_exporter": "python",
   "pygments_lexer": "ipython3",
   "version": "3.8.5"
  }
 },
 "nbformat": 4,
 "nbformat_minor": 4
}
